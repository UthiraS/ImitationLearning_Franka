{
 "cells": [
  {
   "cell_type": "code",
   "execution_count": 13,
   "id": "78b72487",
   "metadata": {},
   "outputs": [],
   "source": [
    "import numpy as np\n",
    "import pandas as pd\n",
    "import matplotlib.pyplot as plt\n",
    "from scipy.interpolate import splprep, splrep, splev, UnivariateSpline, LSQUnivariateSpline, CubicSpline, BSpline, InterpolatedUnivariateSpline, make_interp_spline, make_lsq_spline"
   ]
  },
  {
   "cell_type": "code",
   "execution_count": 3,
   "id": "1468aa59",
   "metadata": {},
   "outputs": [],
   "source": [
    "#[-0.52, 0.52]\n",
    "x_old = np.array([73,74,75,76,77,78,79,80,81,82,83,84,85,86,87,88,89,90,91,92,93,94,95,96,97,98,99,100,101,102,103,104,105,106,107,108\n",
    ",109,110,111,112,113,114,115,116,117,118,119,120,121,122,123,124,125,126,127,128,129,130,131,132,133,134,135,136,137,138,139,140,141,142,143,144,\n",
    "145,146,147,148,149])\n",
    "y_old = np.array([128,128,128,128,128,128,128,128,128,128,128,128,128,128,128,128,128,128,128,128,128,128,128,128,128,128,128,128,128,128,128,128,128,128,128,128,128,128,128,129,129,129,130,130,131,131,132,133,133,134,134,135,135,136,137,137,138,138,139,139,140,141,141,142,142,143,143,144,145,145,146,146,147,147,148,149,149])\n"
   ]
  },
  {
   "cell_type": "code",
   "execution_count": 21,
   "id": "771e5f5b",
   "metadata": {},
   "outputs": [],
   "source": [
    "#[-0.52, -0.52]\n",
    "x_old = [93,94,94,95,95,96,97,97,98,98,99,99,100,101,101,102,102,103,104,104,105,105,106,107,107,108,108,109,109,110,111,111,112,112,113,114\n",
    ",114,115,116,117,118,119,120,121,122,123,124,125,126,127,128,129,130,131,132,133,134,135,136,137,138,139,140,141,142,143,144,145,146,147,148,149]\n",
    "y_old = [94,95,96,97,98,99,100,101,102,103,104,105,106,107,108,109,110,111,112,113,114,115,116,117,118,119,120,121,122,123,124,125,126,127,128,129\n",
    ",130,131,131,131,131,132,133,133,134,134,135,135,136,137,137,138,138,139,139,140,141,141,142,142,143,143,144,145,145,146,146,147,147,148,149,149]"
   ]
  },
  {
   "cell_type": "code",
   "execution_count": 27,
   "id": "9d2d1e14",
   "metadata": {},
   "outputs": [],
   "source": [
    "#[-1.04, -1.04]\n",
    "x_old = [129,130,130,130,130,130,130,131,131,131,132,132,132,133,133,133,133,134\n",
    ",134,134,134,135,135,135,136,136,136,137,137,137,137,138,138,138,139,139\n",
    ",139,139,140,140,140,140,141,141,141,142,142,142,143,143,143,143,144,144\n",
    ",144,144,145,145,145,146,146,146,147,147,147,147,148,148,148,149,150,150]\n",
    "y_old = [113,110,111,112,114,115,116,109,117,118,107,108,119,105,106,120,121,103\n",
    ",104,122,123,101,102,124,100,125,126,98,99,127,128,96,97,129,94,95\n",
    ",130,131,92,93,132,133,91,134,135,89,90,136,87,88,137,138,85,86\n",
    ",139,140,83,84,141,82,142,143,80,81,144,145,79,146,147,148,149,150]"
   ]
  },
  {
   "cell_type": "code",
   "execution_count": 33,
   "id": "0e4dac43",
   "metadata": {},
   "outputs": [],
   "source": [
    "#[0.52, 1.04]\n",
    "\n",
    "x_old = [112,112,112,113,113,113,113,113,113,113,113,113,113,113,113,113,113,113\n",
    ",113,113,113,113,113,113,113,113,113,113,113,113,113,113,114,114,114,114\n",
    ",114,114,114,114,114,115,116,117,118,119,120,121,122,123,124,125,126,127\n",
    ",128,129,130,131,132,133,134,135,136,137,138,139,140,141,142,143,144,145\n",
    ",146,147,148,149]\n",
    "y_old = [208,209,210,179,180,181,182,183,184,185,186,187,188,189,190,191,192,193\n",
    ",194,195,196,197,198,199,200,201,202,203,204,205,206,207,170,171,172,173\n",
    ",174,175,176,177,178,169,168,168,168,167,166,166,165,165,164,164,163,162\n",
    ",162,161,161,160,160,159,158,158,157,157,156,156,155,154,154,153,153,152\n",
    ",152,151,150,150]"
   ]
  },
  {
   "cell_type": "code",
   "execution_count": 39,
   "id": "7dc490a6",
   "metadata": {},
   "outputs": [],
   "source": [
    "#[-1.39, 2.65]\n",
    "\n",
    "x_old = [130,130,131,131,131,132,132,132,133,133,133,134,134,134,135,135,135,136\n",
    ",137,138,139,140,141,141,141,141,141,141,141,142,142,142,142,142,142,142\n",
    ",142,142,142,143,144,145,146,146,146,146,146,147,147,147,147,147,147,148\n",
    ",148,148,148,148,149,149,149,149,149,149,150]\n",
    "y_old = [144,145,141,142,143,138,139,140,135,136,137,132,133,134,129,130,131,128\n",
    ",127,126,125,124,117,118,119,121,122,123,124,109,110,111,112,113,114,115\n",
    ",116,120,125,125,126,127,128,129,130,131,132,133,134,135,136,137,138,139\n",
    ",140,141,142,143,144,145,146,147,148,149,150]"
   ]
  },
  {
   "cell_type": "code",
   "execution_count": 69,
   "id": "c87c762f",
   "metadata": {},
   "outputs": [],
   "source": [
    "#[-2.09, 1.04]\n",
    "\n",
    "x_old = [150,150,151,151,152,153,153,153,153,154,154,154,154,155,155,155,156,156\n",
    ",156,156,157,157,157,157,158,158,158,159,159,159,160,160,160,160,161,161\n",
    ",161,162,162,162,162,163,163,163,163,164,164,164,165,165,165,166,166,166\n",
    ",166,167,167,167,168,168,168,168,169,169,169,169,169,169,170,170,170,170]\n",
    "y_old = [149,150,147,148,146,79,80,144,145,81,82,142,143,83,84,141,85,86\n",
    ",139,140,87,88,137,138,89,90,136,91,134,135,92,93,132,133,94,95\n",
    ",131,96,97,129,130,98,99,127,128,100,101,126,102,124,125,103,104,122\n",
    ",123,105,106,121,107,108,119,120,109,110,115,116,117,118,111,112,113,114]"
   ]
  },
  {
   "cell_type": "code",
   "execution_count": 70,
   "id": "be197e34",
   "metadata": {},
   "outputs": [],
   "source": [
    "points = np.c_[x_old,y_old]    \n",
    "final_ordered = np.flip(points, 0)\n",
    "x = final_ordered[:,0]\n",
    "y = final_ordered[:,1]\n",
    "\n",
    "order = np.argsort(x)\n",
    "xsort, ysort = x[order], y[order]"
   ]
  },
  {
   "cell_type": "code",
   "execution_count": 71,
   "id": "a29ca108",
   "metadata": {},
   "outputs": [],
   "source": [
    "df = pd.DataFrame()\n",
    "df['xsort'] = xsort\n",
    "df['ysort'] = ysort\n",
    "    \n",
    "mean = df.groupby('xsort').mean()\n",
    "#print(\"Mean\", mean)\n",
    "df_x = mean.index    \n",
    "df_y = mean['ysort'] "
   ]
  },
  {
   "cell_type": "code",
   "execution_count": 72,
   "id": "87e9f85a",
   "metadata": {},
   "outputs": [],
   "source": [
    "k = 2\n",
    "t = [0, 1, 2, 3, 4, 5]\n",
    "c = [-1, 2, 0, 1]    "
   ]
  },
  {
   "cell_type": "code",
   "execution_count": 62,
   "id": "3b7546f6",
   "metadata": {},
   "outputs": [
    {
     "name": "stdout",
     "output_type": "stream",
     "text": [
      "[150. 150. 150. 150. 152. 153. 154. 155. 156. 157. 158. 159. 160. 161.\n",
      " 162. 163. 164. 165. 166. 167. 168. 170. 170. 170. 170.]\n",
      "[149.5        132.61140607 177.02718787  98.75088486 119.53834843\n",
      "  95.09572143 116.07876587 115.5892151   96.56437372 128.15329001\n",
      " 110.82246624 103.55684505 114.95015358 114.64254063 104.47968391\n",
      " 121.43872371 111.76542123 109.49959138 115.81508723 113.92578972\n",
      " 112.5          0.           0.           0.           0.        ]\n",
      "3\n"
     ]
    }
   ],
   "source": [
    "spl = splrep(df_x,df_y)\n",
    "t= spl[0]\n",
    "print(t)\n",
    "c = spl[1]\n",
    "print(c)\n",
    "k = spl[2]\n",
    "print(k)"
   ]
  },
  {
   "cell_type": "code",
   "execution_count": 73,
   "id": "fe3e6caa",
   "metadata": {},
   "outputs": [
    {
     "name": "stdout",
     "output_type": "stream",
     "text": [
      "[150 151 152 153 154 155 156 157 158 159 160 161 162 163 164 165 166 167\n",
      " 168 169 170] [-54315.5 -55055.  -55799.5 -56549.  -57303.5 -58063.  -58827.5 -59597.\n",
      " -60371.5 -61151.  -61935.5 -62725.  -63519.5 -64319.  -65123.5 -65933.\n",
      " -66747.5 -67567.  -68391.5 -69221.  -70055.5]\n"
     ]
    }
   ],
   "source": [
    "#spline = InterpolatedUnivariateSpline(df_x, df_y, k=3) #Interpolated    \n",
    "#spline = splev(df_x, df_y, t)\n",
    "#spline = CubicSpline(df_x, df_y)  '''\n",
    "'''\n",
    "knots = spline.get_knots()\n",
    "co_effs = spline.get_coeffs()\n",
    "print(\"co_effs\", co_effs)    \n",
    "print(\"Knots\", knots)\n",
    "'''    \n",
    "spline = BSpline(t, c, k)\n",
    "#co_effs = spline.c\n",
    "#knots = spline.t\n",
    "#print(\"co_effs\", co_effs)\n",
    "#print(\"Knots\", len(knots))     \n",
    "             \n",
    "newX = df_x\n",
    "newX = newX.to_numpy() #np.linspace(startPt, endPt, 20)\n",
    "#print(len(newX))\n",
    "#newY = splev(newX, spl)\n",
    "newY = spline(newX)\n",
    "#End of Fitting the Spline\n",
    "print(newX, newY)"
   ]
  },
  {
   "cell_type": "code",
   "execution_count": 74,
   "id": "100c4e62",
   "metadata": {},
   "outputs": [
    {
     "name": "stderr",
     "output_type": "stream",
     "text": [
      "<ipython-input-74-4035081f00c9>:5: UserWarning: Matplotlib is currently using module://ipykernel.pylab.backend_inline, which is a non-GUI backend, so cannot show the figure.\n",
      "  fig.show()\n"
     ]
    },
    {
     "data": {
      "image/png": "[encoded data removed]",
      "text/plain": [
       "<Figure size 432x288 with 1 Axes>"
      ]
     },
     "metadata": {
      "needs_background": "light"
     },
     "output_type": "display_data"
    }
   ],
   "source": [
    "fig = None\n",
    "if fig == None:\n",
    "       fig = plt.figure()\n",
    "       ax = fig.add_subplot(111)\n",
    "       fig.show()\n",
    "       fig.canvas.draw()\n",
    "ax.clear()\n",
    "ax.set_xlim([0, 300])\n",
    "ax.set_ylim([-300, 0])\n",
    "ax.plot(y, -x, 'b+', label='Data')\n",
    "ax.plot(newY, -newX, 'r-', label='Spline, fit')\n",
    "fig.canvas.draw()\n",
    "fig.canvas.flush_events() \n",
    "    #End Plotting"
   ]
  },
  {
   "cell_type": "code",
   "execution_count": null,
   "id": "dbe6170d",
   "metadata": {},
   "outputs": [],
   "source": []
  },
  {
   "cell_type": "code",
   "execution_count": null,
   "id": "d08b0955",
   "metadata": {},
   "outputs": [],
   "source": []
  }
 ],
 "metadata": {
  "kernelspec": {
   "display_name": "Python 3",
   "language": "python",
   "name": "python3"
  },
  "language_info": {
   "codemirror_mode": {
    "name": "ipython",
    "version": 3
   },
   "file_extension": ".py",
   "mimetype": "text/x-python",
   "name": "python",
   "nbconvert_exporter": "python",
   "pygments_lexer": "ipython3",
   "version": "3.8.10"
  }
 },
 "nbformat": 4,
 "nbformat_minor": 5
}
