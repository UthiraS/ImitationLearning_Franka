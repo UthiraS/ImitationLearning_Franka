{
 "cells": [
  {
   "cell_type": "code",
   "execution_count": 7,
   "id": "78b72487",
   "metadata": {},
   "outputs": [],
   "source": [
    "import numpy as np\n",
    "import pandas as pd\n",
    "import matplotlib.pyplot as plt\n",
    "from scipy.interpolate import splprep, splrep, splev, UnivariateSpline, LSQUnivariateSpline, CubicSpline, BSpline, InterpolatedUnivariateSpline, make_interp_spline, make_lsq_spline"
   ]
  },
  {
   "cell_type": "code",
   "execution_count": 8,
   "id": "797769f6",
   "metadata": {},
   "outputs": [],
   "source": [
    "#[-2.09, 1.04]\n",
    "\n",
    "x_old = np.array([150,150,151,151,152,153,153,153,153,154,154,154,154,155,155,155,156,156\n",
    ",156,156,157,157,157,157,158,158,158,159,159,159,160,160,160,160,161,161\n",
    ",161,162,162,162,162,163,163,163,163,164,164,164,165,165,165,166,166,166\n",
    ",166,167,167,167,168,168,168,168,169,169,169,169,169,169,170,170,170,170])\n",
    "y_old = np.array([149,150,147,148,146,79,80,144,145,81,82,142,143,83,84,141,85,86\n",
    ",139,140,87,88,137,138,89,90,136,91,134,135,92,93,132,133,94,95\n",
    ",131,96,97,129,130,98,99,127,128,100,101,126,102,124,125,103,104,122\n",
    ",123,105,106,121,107,108,119,120,109,110,115,116,117,118,111,112,113,114])"
   ]
  },
  {
   "cell_type": "code",
   "execution_count": 9,
   "id": "ba5a0c7b",
   "metadata": {
    "scrolled": true
   },
   "outputs": [],
   "source": [
    "x = np.array([150,150,151,151,152,153,153,153,153,154,154,154,154,155,155,155,156,156\n",
    ",156,156,157,157,157,157,158,158,158,159,159,159,160,160,160,160,161,161\n",
    ",161,162,162,162,162,163,163,163,163,164,164,164,165,165,165,166,166,166\n",
    ",166,167,167,167,168,168,168,168,169,169,169,169,169,169,170,170,170,170])\n",
    "x = x.astype(float)\n",
    "px = x"
   ]
  },
  {
   "cell_type": "code",
   "execution_count": 10,
   "id": "01a187d9",
   "metadata": {},
   "outputs": [
    {
     "name": "stdout",
     "output_type": "stream",
     "text": [
      "[150. 150. 151. 151. 152. 153. 153. 153. 153. 154. 154. 154. 154. 155.\n",
      " 155. 155. 156. 156. 156. 156. 157. 157. 157. 157. 158. 158. 158. 159.\n",
      " 159. 159. 160. 160. 160. 160. 161. 161. 161. 162. 162. 162. 162. 163.\n",
      " 163. 163. 163. 164. 164. 164. 165. 165. 165. 166. 166. 166. 166. 167.\n",
      " 167. 167. 168. 168. 168. 168. 169. 169. 169. 169. 169. 169. 170. 170.\n",
      " 170. 170.]\n",
      "[150. 150. 151. 151. 152. 153. 153. 153. 153. 154. 154. 154. 154. 155.\n",
      " 155. 155. 156. 156. 156. 156. 157. 157. 157. 157. 158. 158. 158. 159.\n",
      " 159. 159. 160. 160. 160. 160. 161. 161. 161. 162. 162. 162. 162. 163.\n",
      " 163. 163. 163. 164. 164. 164. 165. 165. 165. 166. 166. 166. 166. 167.\n",
      " 167. 167. 168. 168. 168. 168. 169. 169. 169. 169. 169. 169. 170. 170.\n",
      " 170. 170.]\n",
      "72\n",
      "72\n"
     ]
    }
   ],
   "source": [
    "#x = x_old[-1]\n",
    "print(x)\n",
    "print(px)\n",
    "print(len(x))\n",
    "print(len(px))\n"
   ]
  },
  {
   "cell_type": "code",
   "execution_count": 13,
   "id": "b0f73ae5",
   "metadata": {},
   "outputs": [
    {
     "name": "stdout",
     "output_type": "stream",
     "text": [
      "0\n",
      "150.0\n",
      "[150.  150.  151.  151.2 152.  153.  153.5 153.  153.7 154.  154.9 154.\n",
      " 155.1 155.  156.3 155.  156.  157.6 156.  157.8 157.  159.  157.  159.2\n",
      " 158.  160.4 158.  159.  161.7 159.  160.  163.  160.  163.2 161.  164.4\n",
      " 161.  162.  165.7 162.  165.9 163.  167.1 163.  167.3 164.  168.5 164.\n",
      " 165.  169.8 165.  166.  171.1 166.  171.3 167.  172.5 167.  168.  173.8\n",
      " 168.  174.  169.  175.2 169.  175.4 169.  175.6 170.  176.8 170.  177. ]\n",
      "0\n",
      "1\n",
      "1\n",
      "2\n",
      "2\n",
      "3\n",
      "3\n",
      "4\n",
      "4\n",
      "5\n",
      "5\n",
      "6\n",
      "6\n",
      "7\n",
      "7\n",
      "8\n",
      "8\n",
      "9\n",
      "9\n",
      "10\n",
      "10\n",
      "11\n",
      "11\n",
      "12\n",
      "12\n",
      "13\n",
      "13\n",
      "14\n",
      "14\n",
      "15\n",
      "15\n",
      "16\n",
      "16\n",
      "17\n",
      "17\n",
      "18\n",
      "18\n",
      "19\n",
      "19\n",
      "20\n",
      "20\n",
      "21\n",
      "21\n",
      "22\n",
      "22\n",
      "23\n",
      "23\n",
      "24\n",
      "24\n",
      "25\n",
      "25\n",
      "26\n",
      "26\n",
      "27\n",
      "27\n",
      "28\n",
      "28\n",
      "29\n",
      "29\n",
      "30\n",
      "30\n",
      "31\n",
      "31\n",
      "32\n",
      "32\n",
      "33\n",
      "33\n",
      "34\n",
      "34\n",
      "35\n",
      "35\n",
      "36\n",
      "36\n",
      "37\n",
      "37\n",
      "38\n",
      "38\n",
      "39\n",
      "39\n",
      "40\n",
      "40\n",
      "41\n",
      "41\n",
      "42\n",
      "42\n",
      "43\n",
      "43\n",
      "44\n",
      "44\n",
      "45\n",
      "45\n",
      "46\n",
      "46\n",
      "47\n",
      "47\n",
      "48\n",
      "48\n",
      "49\n",
      "49\n",
      "50\n",
      "50\n",
      "51\n",
      "51\n",
      "52\n",
      "52\n",
      "53\n",
      "53\n",
      "54\n",
      "54\n",
      "55\n",
      "55\n",
      "56\n",
      "56\n",
      "57\n",
      "57\n",
      "58\n",
      "58\n",
      "59\n",
      "59\n",
      "60\n",
      "60\n",
      "61\n",
      "61\n",
      "62\n",
      "62\n",
      "63\n",
      "63\n",
      "64\n",
      "64\n",
      "65\n",
      "65\n",
      "66\n",
      "66\n",
      "67\n",
      "67\n",
      "68\n",
      "68\n",
      "69\n",
      "69\n",
      "70\n",
      "70\n",
      "[150.  150.  151.  151.2 152.  153.  153.5 153.  153.7 154.  154.9 154.\n",
      " 155.1 155.  156.3 155.  156.  157.6 156.  157.8 157.  159.  157.  159.2\n",
      " 158.  160.4 158.  159.  161.7 159.  160.  163.  160.  163.2 161.  164.4\n",
      " 161.  162.  165.7 162.  165.9 163.  167.1 163.  167.3 164.  168.5 164.\n",
      " 165.  169.8 165.  166.  171.1 166.  171.3 167.  172.5 167.  168.  173.8\n",
      " 168.  174.  169.  175.2 169.  175.4 169.  175.6 170.  176.8 170.  177. ]\n"
     ]
    }
   ],
   "source": [
    "for i in range(len(x)-1):\n",
    "    print(i)\n",
    "    if x[i] == x[i+1]:\n",
    "        #print(i)\n",
    "        #print(px[i])\n",
    "        px[i+1] = px[i] + 0.1*i\n",
    "        print(px[i+1])\n",
    "        print(px)\n",
    "    print(i)\n",
    "    #else:\n",
    "        #\"Do Nothing\"\n",
    "print(px)"
   ]
  },
  {
   "cell_type": "code",
   "execution_count": 280,
   "id": "b96ce4e8",
   "metadata": {},
   "outputs": [
    {
     "data": {
      "text/plain": [
       "'print(len(x_old))\\nprint(len(y_old))\\nx_unique = np.unique(x_old)\\nprint(len(x_unique))'"
      ]
     },
     "execution_count": 280,
     "metadata": {},
     "output_type": "execute_result"
    }
   ],
   "source": [
    "'''print(len(x_old))\n",
    "print(len(y_old))\n",
    "x_unique = np.unique(x_old)\n",
    "print(len(x_unique))'''"
   ]
  },
  {
   "cell_type": "code",
   "execution_count": 281,
   "id": "be197e34",
   "metadata": {},
   "outputs": [],
   "source": [
    "points = np.c_[px,y_old]    \n",
    "final_ordered = np.flip(points, 0)"
   ]
  },
  {
   "cell_type": "code",
   "execution_count": 282,
   "id": "a29ca108",
   "metadata": {},
   "outputs": [
    {
     "name": "stdout",
     "output_type": "stream",
     "text": [
      "[177.  170.  176.8 170.  175.6 169.  175.4 169.  175.2 169.  174.  168.\n",
      " 173.8 168.  167.  172.5 167.  171.3 166.  171.1 166.  165.  169.8 165.\n",
      " 164.  168.5 164.  167.3 163.  167.1 163.  165.9 162.  165.7 162.  161.\n",
      " 164.4 161.  163.2 160.  163.  160.  159.  161.7 159.  158.  160.4 158.\n",
      " 159.2 157.  159.  157.  157.8 156.  157.6 156.  155.  156.3 155.  155.1\n",
      " 154.  154.9 154.  153.7 153.  153.5 153.  152.  151.2 151.  150.1 150. ]\n",
      "[114. 113. 112. 111. 118. 117. 116. 115. 110. 109. 120. 119. 108. 107.\n",
      " 121. 106. 105. 123. 122. 104. 103. 125. 124. 102. 126. 101. 100. 128.\n",
      " 127.  99.  98. 130. 129.  97.  96. 131.  95.  94. 133. 132.  93.  92.\n",
      " 135. 134.  91. 136.  90.  89. 138. 137.  88.  87. 140. 139.  86.  85.\n",
      " 141.  84.  83. 143. 142.  82.  81. 145. 144.  80.  79. 146. 148. 147.\n",
      " 150. 149.]\n",
      "[ 79.  80.  81.  82.  83.  84.  85.  86.  87.  88.  89.  90.  91.  92.\n",
      "  93.  94.  95.  96.  97.  98.  99. 100. 101. 102. 103. 104. 105. 106.\n",
      " 107. 108. 109. 110. 111. 112. 113. 114. 115. 116. 117. 118. 119. 120.\n",
      " 121. 122. 123. 124. 125. 126. 127. 128. 129. 130. 131. 132. 133. 134.\n",
      " 135. 136. 137. 138. 139. 140. 141. 142. 143. 144. 145. 146. 147. 148.\n",
      " 149. 150.]\n"
     ]
    }
   ],
   "source": [
    "#st_pt = final_ordered[0]\n",
    "#end_pt = final_ordered[-1]\n",
    "#final_ordered = np.linspace(st_pt, end_pt, 50)\n",
    "x = final_ordered[:,0]\n",
    "y = final_ordered[:,1]\n",
    "print(x)\n",
    "print(y)\n",
    "#order = np.argsort(x)\n",
    "#xsort, ysort = x[order], y[order]\n",
    "#print(xsort)\n",
    "#print(np.sort(x))\n",
    "print(ysort)\n",
    "xsort = np.sort(x)\n",
    "ysort = np.sort(y)"
   ]
  },
  {
   "cell_type": "code",
   "execution_count": 296,
   "id": "fa511415",
   "metadata": {},
   "outputs": [
    {
     "name": "stdout",
     "output_type": "stream",
     "text": [
      "(array([150., 150., 150., 150., 151., 151., 152., 153., 153., 153., 153.,\n",
      "       154., 154., 154., 154., 155., 155., 155., 156., 156., 156., 156.,\n",
      "       157., 157., 157., 157., 158., 158., 158., 159., 159., 159., 160.,\n",
      "       160., 160., 160., 161., 161., 161., 162., 162., 162., 162., 163.,\n",
      "       163., 163., 163., 164., 164., 164., 165., 165., 165., 166., 166.,\n",
      "       166., 166., 167., 167., 167., 168., 168., 168., 168., 169., 169.,\n",
      "       169., 169., 169., 169., 170., 170., 170., 170., 170., 170.]), array([nan, nan, nan, nan, nan, nan, nan, nan, nan, nan, nan, nan, nan,\n",
      "       nan, nan, nan, nan, nan, nan, nan, nan, nan, nan, nan, nan, nan,\n",
      "       nan, nan, nan, nan, nan, nan, nan, nan, nan, nan, nan, nan, nan,\n",
      "       nan, nan, nan, nan, nan, nan, nan, nan, nan, nan, nan, nan, nan,\n",
      "       nan, nan, nan, nan, nan, nan, nan, nan, nan, nan, nan, nan, nan,\n",
      "       nan, nan, nan, nan, nan, nan, nan,  0.,  0.,  0.,  0.]), 3)\n"
     ]
    }
   ],
   "source": [
    "spl = splrep(x_old,y_old)\n",
    "#print(tck)\n",
    "#xsort = np.line\n",
    "print(spl)"
   ]
  },
  {
   "cell_type": "code",
   "execution_count": 284,
   "id": "87e9f85a",
   "metadata": {},
   "outputs": [
    {
     "name": "stdout",
     "output_type": "stream",
     "text": [
      "[150.  150.  150.  150.  151.  151.2 152.  153.  153.  153.5 153.7 154.\n",
      " 154.  154.9 155.  155.  155.1 156.  156.  156.3 157.  157.  157.6 157.8\n",
      " 158.  158.  159.  159.  159.  159.2 160.  160.  160.4 161.  161.  161.7\n",
      " 162.  162.  163.  163.  163.  163.2 164.  164.  164.4 165.  165.  165.7\n",
      " 165.9 166.  166.  167.  167.  167.1 167.3 168.  168.  168.5 169.  169.\n",
      " 169.  169.8 170.  170.  171.1 171.3 172.5 173.8 174.  175.2 175.4 175.6\n",
      " 177.  177.  177.  177. ]\n"
     ]
    }
   ],
   "source": [
    "print(spl[0])"
   ]
  },
  {
   "cell_type": "code",
   "execution_count": 285,
   "id": "fe3e6caa",
   "metadata": {},
   "outputs": [
    {
     "name": "stdout",
     "output_type": "stream",
     "text": [
      "[150.  150.1 151.  151.2 152.  153.  153.  153.5 153.7 154.  154.  154.9\n",
      " 155.  155.  155.1 156.  156.  156.3 157.  157.  157.6 157.8 158.  158.\n",
      " 159.  159.  159.  159.2 160.  160.  160.4 161.  161.  161.7 162.  162.\n",
      " 163.  163.  163.  163.2 164.  164.  164.4 165.  165.  165.7 165.9 166.\n",
      " 166.  167.  167.  167.1 167.3 168.  168.  168.5 169.  169.  169.  169.8\n",
      " 170.  170.  171.1 171.3 172.5 173.8 174.  175.2 175.4 175.6 176.8 177. ]\n"
     ]
    },
    {
     "ename": "ValueError",
     "evalue": "Expect x to be a 1-D sorted array_like.",
     "output_type": "error",
     "traceback": [
      "\u001b[0;31m---------------------------------------------------------------------------\u001b[0m",
      "\u001b[0;31mValueError\u001b[0m                                Traceback (most recent call last)",
      "\u001b[0;32m<ipython-input-285-5435ff4b1050>\u001b[0m in \u001b[0;36m<module>\u001b[0;34m\u001b[0m\n\u001b[1;32m      2\u001b[0m \u001b[0mt\u001b[0m \u001b[0;34m=\u001b[0m \u001b[0mspl\u001b[0m\u001b[0;34m[\u001b[0m\u001b[0;36m0\u001b[0m\u001b[0;34m]\u001b[0m\u001b[0;34m\u001b[0m\u001b[0;34m\u001b[0m\u001b[0m\n\u001b[1;32m      3\u001b[0m \u001b[0;34m\u001b[0m\u001b[0m\n\u001b[0;32m----> 4\u001b[0;31m \u001b[0mspline\u001b[0m \u001b[0;34m=\u001b[0m \u001b[0mmake_lsq_spline\u001b[0m\u001b[0;34m(\u001b[0m\u001b[0mxsort\u001b[0m\u001b[0;34m,\u001b[0m \u001b[0mysort\u001b[0m\u001b[0;34m,\u001b[0m \u001b[0mt\u001b[0m\u001b[0;34m,\u001b[0m \u001b[0mk\u001b[0m\u001b[0;34m=\u001b[0m\u001b[0;36m3\u001b[0m\u001b[0;34m)\u001b[0m\u001b[0;34m\u001b[0m\u001b[0;34m\u001b[0m\u001b[0m\n\u001b[0m",
      "\u001b[0;32m~/.local/lib/python3.8/site-packages/scipy/interpolate/_bsplines.py\u001b[0m in \u001b[0;36mmake_lsq_spline\u001b[0;34m(x, y, t, k, w, axis, check_finite)\u001b[0m\n\u001b[1;32m    971\u001b[0m \u001b[0;34m\u001b[0m\u001b[0m\n\u001b[1;32m    972\u001b[0m     \u001b[0;32mif\u001b[0m \u001b[0mx\u001b[0m\u001b[0;34m.\u001b[0m\u001b[0mndim\u001b[0m \u001b[0;34m!=\u001b[0m \u001b[0;36m1\u001b[0m \u001b[0;32mor\u001b[0m \u001b[0mnp\u001b[0m\u001b[0;34m.\u001b[0m\u001b[0many\u001b[0m\u001b[0;34m(\u001b[0m\u001b[0mx\u001b[0m\u001b[0;34m[\u001b[0m\u001b[0;36m1\u001b[0m\u001b[0;34m:\u001b[0m\u001b[0;34m]\u001b[0m \u001b[0;34m-\u001b[0m \u001b[0mx\u001b[0m\u001b[0;34m[\u001b[0m\u001b[0;34m:\u001b[0m\u001b[0;34m-\u001b[0m\u001b[0;36m1\u001b[0m\u001b[0;34m]\u001b[0m \u001b[0;34m<=\u001b[0m \u001b[0;36m0\u001b[0m\u001b[0;34m)\u001b[0m\u001b[0;34m:\u001b[0m\u001b[0;34m\u001b[0m\u001b[0;34m\u001b[0m\u001b[0m\n\u001b[0;32m--> 973\u001b[0;31m         \u001b[0;32mraise\u001b[0m \u001b[0mValueError\u001b[0m\u001b[0;34m(\u001b[0m\u001b[0;34m\"Expect x to be a 1-D sorted array_like.\"\u001b[0m\u001b[0;34m)\u001b[0m\u001b[0;34m\u001b[0m\u001b[0;34m\u001b[0m\u001b[0m\n\u001b[0m\u001b[1;32m    974\u001b[0m     \u001b[0;32mif\u001b[0m \u001b[0mx\u001b[0m\u001b[0;34m.\u001b[0m\u001b[0mshape\u001b[0m\u001b[0;34m[\u001b[0m\u001b[0;36m0\u001b[0m\u001b[0;34m]\u001b[0m \u001b[0;34m<\u001b[0m \u001b[0mk\u001b[0m\u001b[0;34m+\u001b[0m\u001b[0;36m1\u001b[0m\u001b[0;34m:\u001b[0m\u001b[0;34m\u001b[0m\u001b[0;34m\u001b[0m\u001b[0m\n\u001b[1;32m    975\u001b[0m         \u001b[0;32mraise\u001b[0m \u001b[0mValueError\u001b[0m\u001b[0;34m(\u001b[0m\u001b[0;34m\"Need more x points.\"\u001b[0m\u001b[0;34m)\u001b[0m\u001b[0;34m\u001b[0m\u001b[0;34m\u001b[0m\u001b[0m\n",
      "\u001b[0;31mValueError\u001b[0m: Expect x to be a 1-D sorted array_like."
     ]
    }
   ],
   "source": [
    "print(xsort)\n",
    "t = spl[0]\n",
    "\n",
    "spline = make_lsq_spline(xsort, ysort, t, k=3)\n"
   ]
  },
  {
   "cell_type": "code",
   "execution_count": 243,
   "id": "a7bbe107",
   "metadata": {},
   "outputs": [],
   "source": [
    "newX = xsort\n",
    "newY = spline(xsort)"
   ]
  },
  {
   "cell_type": "code",
   "execution_count": 244,
   "id": "100c4e62",
   "metadata": {},
   "outputs": [
    {
     "name": "stderr",
     "output_type": "stream",
     "text": [
      "<ipython-input-244-58526d103e00>:5: UserWarning: Matplotlib is currently using module://ipykernel.pylab.backend_inline, which is a non-GUI backend, so cannot show the figure.\n",
      "  fig.show()\n"
     ]
    },
    {
     "data": {
      "image/png": "[encoded data removed]",
      "text/plain": [
       "<Figure size 432x288 with 1 Axes>"
      ]
     },
     "metadata": {
      "needs_background": "light"
     },
     "output_type": "display_data"
    }
   ],
   "source": [
    "fig = None\n",
    "if fig == None:\n",
    "       fig = plt.figure()\n",
    "       ax = fig.add_subplot(111)\n",
    "       fig.show()\n",
    "       fig.canvas.draw()\n",
    "ax.clear()\n",
    "ax.set_xlim([0, 300])\n",
    "ax.set_ylim([-300, 0])\n",
    "ax.plot(y_old, -x_old, 'b+', label='Data')\n",
    "ax.plot(newY, -newX, 'r-', label='Spline, fit')\n",
    "fig.canvas.draw()\n",
    "fig.canvas.flush_events() \n",
    "    #End Plotting"
   ]
  },
  {
   "cell_type": "code",
   "execution_count": 102,
   "id": "dbe6170d",
   "metadata": {},
   "outputs": [],
   "source": [
    "x = [0, 1, 2, 3, 4, 5]"
   ]
  },
  {
   "cell_type": "code",
   "execution_count": 103,
   "id": "45926b8c",
   "metadata": {},
   "outputs": [
    {
     "name": "stdout",
     "output_type": "stream",
     "text": [
      "1.1\n"
     ]
    }
   ],
   "source": [
    "x[1] = x[1] + 0.1\n",
    "print(x[1])"
   ]
  },
  {
   "cell_type": "code",
   "execution_count": null,
   "id": "81ff4fe9",
   "metadata": {},
   "outputs": [],
   "source": []
  }
 ],
 "metadata": {
  "kernelspec": {
   "display_name": "Python 3",
   "language": "python",
   "name": "python3"
  },
  "language_info": {
   "codemirror_mode": {
    "name": "ipython",
    "version": 3
   },
   "file_extension": ".py",
   "mimetype": "text/x-python",
   "name": "python",
   "nbconvert_exporter": "python",
   "pygments_lexer": "ipython3",
   "version": "3.8.10"
  }
 },
 "nbformat": 4,
 "nbformat_minor": 5
}
