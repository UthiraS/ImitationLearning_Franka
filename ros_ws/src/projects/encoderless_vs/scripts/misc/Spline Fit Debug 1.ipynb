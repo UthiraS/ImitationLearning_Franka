{
 "cells": [
  {
   "cell_type": "code",
   "execution_count": 71,
   "id": "78b72487",
   "metadata": {},
   "outputs": [],
   "source": [
    "import numpy as np\n",
    "import pandas as pd\n",
    "import matplotlib.pyplot as plt\n",
    "from scipy.interpolate import splprep, splrep, splev, UnivariateSpline, LSQUnivariateSpline, CubicSpline, BSpline, InterpolatedUnivariateSpline, make_interp_spline, make_lsq_spline"
   ]
  },
  {
   "cell_type": "code",
   "execution_count": 82,
   "id": "1468aa59",
   "metadata": {},
   "outputs": [],
   "source": [
    "#[-0.52, 0.52]\n",
    "x_old = np.array([73,74,75,76,77,78,79,80,81,82,83,84,85,86,87,88,89,90,91,92,93,94,95,96,97,98,99,100,101,102,103,104,105,106,107,108\n",
    ",109,110,111,112,113,114,115,116,117,118,119,120,121,122,123,124,125,126,127,128,129,130,131,132,133,134,135,136,137,138,139,140,141,142,143,144,\n",
    "145,146,147,148,149])\n",
    "y_old = np.array([128,128,128,128,128,128,128,128,128,128,128,128,128,128,128,128,128,128,128,128,128,128,128,128,128,128,128,128,128,128,128,128,128,128,128,128,128,128,128,129,129,129,130,130,131,131,132,133,133,134,134,135,135,136,137,137,138,138,139,139,140,141,141,142,142,143,143,144,145,145,146,146,147,147,148,149,149])\n"
   ]
  },
  {
   "cell_type": "code",
   "execution_count": 83,
   "id": "45cbf2b9",
   "metadata": {},
   "outputs": [
    {
     "name": "stdout",
     "output_type": "stream",
     "text": [
      "77\n",
      "77\n"
     ]
    }
   ],
   "source": [
    "print(len(x_old))\n",
    "print(len(y_old))"
   ]
  },
  {
   "cell_type": "code",
   "execution_count": 84,
   "id": "be197e34",
   "metadata": {},
   "outputs": [],
   "source": [
    "points = np.c_[x_old,y_old]    \n",
    "final_ordered = np.flip(points, 0)"
   ]
  },
  {
   "cell_type": "code",
   "execution_count": 85,
   "id": "dbe6170d",
   "metadata": {},
   "outputs": [],
   "source": [
    "#st_pt = final_ordered[0]\n",
    "#end_pt = final_ordered[-1]\n",
    "#final_ordered = np.linspace(st_pt, end_pt, 5)\n",
    "#x = final_ordered[:,0]\n",
    "#y = final_ordered[:,1]\n",
    "#print(x)\n",
    "#print(y)\n",
    "#order = np.argsort(x)\n",
    "#xsort, ysort = x[order], y[order]\n",
    "\n",
    "xsort = np.sort(x_old)\n",
    "ysort = np.sort(y_old)"
   ]
  },
  {
   "cell_type": "code",
   "execution_count": 86,
   "id": "021285b6",
   "metadata": {},
   "outputs": [
    {
     "name": "stdout",
     "output_type": "stream",
     "text": [
      "(array([ 73.,  73.,  73.,  73.,  75.,  76.,  77.,  78.,  79.,  80.,  81.,\n",
      "        82.,  83.,  84.,  85.,  86.,  87.,  88.,  89.,  90.,  91.,  92.,\n",
      "        93.,  94.,  95.,  96.,  97.,  98.,  99., 100., 101., 102., 103.,\n",
      "       104., 105., 106., 107., 108., 109., 110., 111., 112., 113., 114.,\n",
      "       115., 116., 117., 118., 119., 120., 121., 122., 123., 124., 125.,\n",
      "       126., 127., 128., 129., 130., 131., 132., 133., 134., 135., 136.,\n",
      "       137., 138., 139., 140., 141., 142., 143., 144., 145., 146., 147.,\n",
      "       149., 149., 149., 149.]), array([128.        , 128.        , 128.        , 128.        ,\n",
      "       128.        , 128.        , 128.        , 128.        ,\n",
      "       128.        , 128.        , 128.        , 128.        ,\n",
      "       128.        , 128.        , 128.        , 128.        ,\n",
      "       128.        , 128.        , 128.        , 128.        ,\n",
      "       128.        , 128.        , 128.        , 128.        ,\n",
      "       128.        , 128.00000001, 127.99999995, 128.00000018,\n",
      "       127.99999932, 128.00000255, 127.99999048, 128.00003555,\n",
      "       127.99986734, 128.0004951 , 127.99815226, 128.00689587,\n",
      "       127.97426427, 128.09604705, 127.64154753, 129.33776282,\n",
      "       129.00740119, 128.63263241, 130.46206915, 129.51909099,\n",
      "       131.46156689, 130.63464144, 131.99986734, 133.36588921,\n",
      "       132.53657584, 134.48780743, 133.51219444, 135.46341482,\n",
      "       134.63414629, 136.00000001, 137.36585366, 136.53658537,\n",
      "       138.48780488, 137.51219512, 139.46341463, 138.63414634,\n",
      "       140.        , 141.36585366, 140.53658537, 142.48780485,\n",
      "       141.51219522, 143.46341425, 142.63414776, 143.99999471,\n",
      "       145.36587341, 144.53651165, 146.48808   , 145.51116836,\n",
      "       147.46724657, 146.61984536, 148.53121421, 149.4843929 ,\n",
      "       149.        ,   0.        ,   0.        ,   0.        ,\n",
      "         0.        ]), 3)\n"
     ]
    }
   ],
   "source": [
    "spl = splrep(xsort,ysort)\n",
    "#print(tck)\n",
    "#xsort = np.line\n",
    "print(spl)"
   ]
  },
  {
   "cell_type": "code",
   "execution_count": 87,
   "id": "f2918dbe",
   "metadata": {},
   "outputs": [
    {
     "name": "stdout",
     "output_type": "stream",
     "text": [
      "[ 73.  73.  73.  73.  75.  76.  77.  78.  79.  80.  81.  82.  83.  84.\n",
      "  85.  86.  87.  88.  89.  90.  91.  92.  93.  94.  95.  96.  97.  98.\n",
      "  99. 100. 101. 102. 103. 104. 105. 106. 107. 108. 109. 110. 111. 112.\n",
      " 113. 114. 115. 116. 117. 118. 119. 120. 121. 122. 123. 124. 125. 126.\n",
      " 127. 128. 129. 130. 131. 132. 133. 134. 135. 136. 137. 138. 139. 140.\n",
      " 141. 142. 143. 144. 145. 146. 147. 149. 149. 149. 149.]\n"
     ]
    }
   ],
   "source": [
    "print(spl[0])"
   ]
  },
  {
   "cell_type": "code",
   "execution_count": 94,
   "id": "dcba1a6c",
   "metadata": {},
   "outputs": [
    {
     "ename": "ValueError",
     "evalue": "operands could not be broadcast together with shapes (81,) (2,) ",
     "output_type": "error",
     "traceback": [
      "\u001b[0;31m---------------------------------------------------------------------------\u001b[0m",
      "\u001b[0;31mValueError\u001b[0m                                Traceback (most recent call last)",
      "\u001b[0;32m<ipython-input-94-1baa7b52e90f>\u001b[0m in \u001b[0;36m<module>\u001b[0;34m\u001b[0m\n\u001b[1;32m      5\u001b[0m \u001b[0mspl\u001b[0m \u001b[0;34m=\u001b[0m \u001b[0mUnivariateSpline\u001b[0m\u001b[0;34m(\u001b[0m\u001b[0mxsort\u001b[0m\u001b[0;34m,\u001b[0m \u001b[0mysort\u001b[0m\u001b[0;34m)\u001b[0m\u001b[0;34m\u001b[0m\u001b[0;34m\u001b[0m\u001b[0m\n\u001b[1;32m      6\u001b[0m \u001b[0;34m\u001b[0m\u001b[0m\n\u001b[0;32m----> 7\u001b[0;31m \u001b[0mt\u001b[0m \u001b[0;34m-\u001b[0m \u001b[0mspl\u001b[0m\u001b[0;34m.\u001b[0m\u001b[0mget_knots\u001b[0m\u001b[0;34m(\u001b[0m\u001b[0;34m)\u001b[0m\u001b[0;34m\u001b[0m\u001b[0;34m\u001b[0m\u001b[0m\n\u001b[0m\u001b[1;32m      8\u001b[0m \u001b[0;34m\u001b[0m\u001b[0m\n\u001b[1;32m      9\u001b[0m \u001b[0mspline\u001b[0m \u001b[0;34m=\u001b[0m \u001b[0mLSQUnivariateSpline\u001b[0m\u001b[0;34m(\u001b[0m\u001b[0mxsort\u001b[0m\u001b[0;34m,\u001b[0m \u001b[0mysort\u001b[0m\u001b[0;34m,\u001b[0m \u001b[0mt\u001b[0m\u001b[0;34m[\u001b[0m\u001b[0;36m1\u001b[0m\u001b[0;34m:\u001b[0m\u001b[0;34m-\u001b[0m\u001b[0;36m1\u001b[0m\u001b[0;34m]\u001b[0m\u001b[0;34m,\u001b[0m \u001b[0mk\u001b[0m\u001b[0;34m=\u001b[0m\u001b[0;36m3\u001b[0m\u001b[0;34m)\u001b[0m\u001b[0;34m\u001b[0m\u001b[0;34m\u001b[0m\u001b[0m\n",
      "\u001b[0;31mValueError\u001b[0m: operands could not be broadcast together with shapes (81,) (2,) "
     ]
    }
   ],
   "source": [
    "#t = spl[0]\n",
    "\n",
    "#spline = make_lsq_spline(xsort, ysort, t, k=3)\n",
    "\n",
    "spl = UnivariateSpline(xsort, ysort)\n",
    "\n",
    "t - spl.get_knots()\n",
    "\n",
    "spline = LSQUnivariateSpline(xsort, ysort, t[1:-1], k=3)\n",
    "\n",
    "print(spline.c)"
   ]
  },
  {
   "cell_type": "code",
   "execution_count": 70,
   "id": "32e5d5b8",
   "metadata": {},
   "outputs": [
    {
     "ename": "ValueError",
     "evalue": "Knots, coefficients and degree are inconsistent.",
     "output_type": "error",
     "traceback": [
      "\u001b[0;31m---------------------------------------------------------------------------\u001b[0m",
      "\u001b[0;31mValueError\u001b[0m                                Traceback (most recent call last)",
      "\u001b[0;32m<ipython-input-70-373be916827b>\u001b[0m in \u001b[0;36m<module>\u001b[0;34m\u001b[0m\n\u001b[1;32m      3\u001b[0m \u001b[0mk\u001b[0m \u001b[0;34m=\u001b[0m \u001b[0;36m3\u001b[0m\u001b[0;34m\u001b[0m\u001b[0;34m\u001b[0m\u001b[0m\n\u001b[1;32m      4\u001b[0m \u001b[0;34m\u001b[0m\u001b[0m\n\u001b[0;32m----> 5\u001b[0;31m \u001b[0mspline\u001b[0m \u001b[0;34m=\u001b[0m \u001b[0mBSpline\u001b[0m\u001b[0;34m(\u001b[0m\u001b[0mt\u001b[0m\u001b[0;34m,\u001b[0m \u001b[0mc\u001b[0m\u001b[0;34m,\u001b[0m \u001b[0mk\u001b[0m\u001b[0;34m)\u001b[0m\u001b[0;34m\u001b[0m\u001b[0;34m\u001b[0m\u001b[0m\n\u001b[0m",
      "\u001b[0;32m~/.local/lib/python3.8/site-packages/scipy/interpolate/_bsplines.py\u001b[0m in \u001b[0;36m__init__\u001b[0;34m(self, t, c, k, extrapolate, axis)\u001b[0m\n\u001b[1;32m    211\u001b[0m             \u001b[0;32mraise\u001b[0m \u001b[0mValueError\u001b[0m\u001b[0;34m(\u001b[0m\u001b[0;34m\"Coefficients must be at least 1-dimensional.\"\u001b[0m\u001b[0;34m)\u001b[0m\u001b[0;34m\u001b[0m\u001b[0;34m\u001b[0m\u001b[0m\n\u001b[1;32m    212\u001b[0m         \u001b[0;32mif\u001b[0m \u001b[0mself\u001b[0m\u001b[0;34m.\u001b[0m\u001b[0mc\u001b[0m\u001b[0;34m.\u001b[0m\u001b[0mshape\u001b[0m\u001b[0;34m[\u001b[0m\u001b[0;36m0\u001b[0m\u001b[0;34m]\u001b[0m \u001b[0;34m<\u001b[0m \u001b[0mn\u001b[0m\u001b[0;34m:\u001b[0m\u001b[0;34m\u001b[0m\u001b[0;34m\u001b[0m\u001b[0m\n\u001b[0;32m--> 213\u001b[0;31m             \u001b[0;32mraise\u001b[0m \u001b[0mValueError\u001b[0m\u001b[0;34m(\u001b[0m\u001b[0;34m\"Knots, coefficients and degree are inconsistent.\"\u001b[0m\u001b[0;34m)\u001b[0m\u001b[0;34m\u001b[0m\u001b[0;34m\u001b[0m\u001b[0m\n\u001b[0m\u001b[1;32m    214\u001b[0m \u001b[0;34m\u001b[0m\u001b[0m\n\u001b[1;32m    215\u001b[0m         \u001b[0mdt\u001b[0m \u001b[0;34m=\u001b[0m \u001b[0m_get_dtype\u001b[0m\u001b[0;34m(\u001b[0m\u001b[0mself\u001b[0m\u001b[0;34m.\u001b[0m\u001b[0mc\u001b[0m\u001b[0;34m.\u001b[0m\u001b[0mdtype\u001b[0m\u001b[0;34m)\u001b[0m\u001b[0;34m\u001b[0m\u001b[0;34m\u001b[0m\u001b[0m\n",
      "\u001b[0;31mValueError\u001b[0m: Knots, coefficients and degree are inconsistent."
     ]
    }
   ],
   "source": [
    "t = [0, 1, 2, 3, 4, 5, 6, 7, 8]\n",
    "c = [-1, 2, 0, -1]\n",
    "k = 3\n",
    "\n",
    "spline = make_lsq_spline(t, c, k)"
   ]
  },
  {
   "cell_type": "code",
   "execution_count": 79,
   "id": "8c11839d",
   "metadata": {},
   "outputs": [],
   "source": [
    "newX = xsort\n",
    "newY = spline(xsort)"
   ]
  },
  {
   "cell_type": "code",
   "execution_count": 80,
   "id": "c93c3518",
   "metadata": {},
   "outputs": [
    {
     "name": "stderr",
     "output_type": "stream",
     "text": [
      "<ipython-input-80-ee8e139d60af>:5: UserWarning: Matplotlib is currently using module://ipykernel.pylab.backend_inline, which is a non-GUI backend, so cannot show the figure.\n",
      "  fig.show()\n"
     ]
    },
    {
     "data": {
      "image/png": "[encoded data removed]",
      "text/plain": [
       "<Figure size 432x288 with 1 Axes>"
      ]
     },
     "metadata": {
      "needs_background": "light"
     },
     "output_type": "display_data"
    }
   ],
   "source": [
    "fig = None\n",
    "if fig == None:\n",
    "       fig = plt.figure()\n",
    "       ax = fig.add_subplot(111)\n",
    "       fig.show()\n",
    "       fig.canvas.draw()\n",
    "ax.clear()\n",
    "ax.set_xlim([0, 300])\n",
    "ax.set_ylim([-300, 0])\n",
    "ax.plot(y_old, -x_old, 'b+', label='Data')\n",
    "ax.plot(newY, -newX, 'r-', label='Spline, fit')\n",
    "fig.canvas.draw()\n",
    "fig.canvas.flush_events() "
   ]
  },
  {
   "cell_type": "code",
   "execution_count": null,
   "id": "74ece849",
   "metadata": {},
   "outputs": [],
   "source": []
  }
 ],
 "metadata": {
  "kernelspec": {
   "display_name": "Python 3",
   "language": "python",
   "name": "python3"
  },
  "language_info": {
   "codemirror_mode": {
    "name": "ipython",
    "version": 3
   },
   "file_extension": ".py",
   "mimetype": "text/x-python",
   "name": "python",
   "nbconvert_exporter": "python",
   "pygments_lexer": "ipython3",
   "version": "3.8.10"
  }
 },
 "nbformat": 4,
 "nbformat_minor": 5
}
